{
 "cells": [
  {
   "cell_type": "markdown",
   "id": "b054bd88",
   "metadata": {
    "id": "b054bd88"
   },
   "source": [
    "# <center> Линейная алгебра в контексте линейных методов. Практика.\n",
    "\n",
    "## <center> Прогнозирование выработки газа на скважинах."
   ]
  },
  {
   "cell_type": "markdown",
   "id": "325bc80b",
   "metadata": {
    "id": "325bc80b"
   },
   "source": [
    "## Постановка задачи"
   ]
  },
  {
   "cell_type": "markdown",
   "id": "8247bd54",
   "metadata": {
    "id": "8247bd54"
   },
   "source": [
    "У Василия, основателя компании «Газ-Таз-Ваз-Нефть», дела идут в гору: у него уже функционирует 200 скважин для добычи газа. В этом году он открывает 30 новых скважин. Однако в целях оптимизации расходов и повышения дохода Василию необходимо оценить, сколько денег будет приносить ему каждая из скважин, а также понять, какие факторы (параметры скважин) потенциально сильнее всего повлияют на объём добычи газа. Для этого Василий решил нанять вас как специалиста в области Data Science.\n",
    "\n",
    "Василий представляет вам набор данных о добыче газа на своих скважинах. Файл с данными вы можете скачать на платформе.\n",
    "\n",
    "**Признаки в данных:**\n",
    "\n",
    "* Well — идентификатор скважины;\n",
    "* Por — пористость скважины (%);\n",
    "* Perm — проницаемость скважины;\n",
    "* AI — акустический импеданс ($кг/м^2 * 10^6$);\n",
    "* Brittle — коэффициент хрупкости скважины (%);\n",
    "* TOC — общий органический углерод (%);\n",
    "* VR — коэффициент отражения витринита (%);\n",
    "* Prod — добыча газа в сутки (млн. кубических футов).\n",
    "\n",
    "**Ваша задача** — построить регрессионную модель, которая прогнозирует выработку газа на скважине (целевой признак — Prod) на основе остальных характеристик скважины, и проинтерпретировать результаты вашей модели.\n",
    "\n",
    "Разделим задачу на две части:\n",
    "* В первой мы построим простейшую модель линейной регрессии, проанализируем результаты её работы и выберем наиболее значимые факторы для прогнозирования.\n",
    "* Во второй мы займёмся построением модели полиномиальной регрессии с регуляризацией и посмотрим на итоговые результаты моделирования.\n"
   ]
  },
  {
   "cell_type": "markdown",
   "id": "d67d069e",
   "metadata": {
    "id": "d67d069e"
   },
   "source": [
    "Импортируем необходимые библиотеки:"
   ]
  },
  {
   "cell_type": "code",
   "execution_count": 16,
   "id": "83a555bc-8dff-4b7e-bba1-cd4f4a9e69b2",
   "metadata": {
    "id": "83a555bc-8dff-4b7e-bba1-cd4f4a9e69b2"
   },
   "outputs": [],
   "source": [
    "# Импорт библиотек\n",
    "import numpy as np # для работы с массивами\n",
    "import pandas as pd # для работы с DataFrame \n",
    "import seaborn as sns # библиотека для визуализации статистических данных\n",
    "import matplotlib.pyplot as plt # для построения графиков\n",
    "from sklearn.metrics import mean_absolute_error, r2_score\n",
    "from sklearn.linear_model import LinearRegression\n",
    "\n",
    "%matplotlib inline"
   ]
  },
  {
   "cell_type": "markdown",
   "id": "e689ddaf",
   "metadata": {
    "id": "e689ddaf"
   },
   "source": [
    "Прочитаем исходные данные:"
   ]
  },
  {
   "cell_type": "code",
   "execution_count": 2,
   "id": "b7b5cd9b-703f-4dbc-a6e3-61d583eafcac",
   "metadata": {
    "colab": {
     "base_uri": "https://localhost:8080/",
     "height": 206
    },
    "id": "b7b5cd9b-703f-4dbc-a6e3-61d583eafcac",
    "outputId": "d4e99a48-2a0d-4edd-f86c-617c44bf36d2"
   },
   "outputs": [
    {
     "data": {
      "text/html": [
       "<div>\n",
       "<style scoped>\n",
       "    .dataframe tbody tr th:only-of-type {\n",
       "        vertical-align: middle;\n",
       "    }\n",
       "\n",
       "    .dataframe tbody tr th {\n",
       "        vertical-align: top;\n",
       "    }\n",
       "\n",
       "    .dataframe thead th {\n",
       "        text-align: right;\n",
       "    }\n",
       "</style>\n",
       "<table border=\"1\" class=\"dataframe\">\n",
       "  <thead>\n",
       "    <tr style=\"text-align: right;\">\n",
       "      <th></th>\n",
       "      <th>Well</th>\n",
       "      <th>Por</th>\n",
       "      <th>Perm</th>\n",
       "      <th>AI</th>\n",
       "      <th>Brittle</th>\n",
       "      <th>TOC</th>\n",
       "      <th>VR</th>\n",
       "      <th>Prod</th>\n",
       "    </tr>\n",
       "  </thead>\n",
       "  <tbody>\n",
       "    <tr>\n",
       "      <th>0</th>\n",
       "      <td>1</td>\n",
       "      <td>12.08</td>\n",
       "      <td>2.92</td>\n",
       "      <td>2.80</td>\n",
       "      <td>81.40</td>\n",
       "      <td>1.16</td>\n",
       "      <td>2.31</td>\n",
       "      <td>4165.196191</td>\n",
       "    </tr>\n",
       "    <tr>\n",
       "      <th>1</th>\n",
       "      <td>2</td>\n",
       "      <td>12.38</td>\n",
       "      <td>3.53</td>\n",
       "      <td>3.22</td>\n",
       "      <td>46.17</td>\n",
       "      <td>0.89</td>\n",
       "      <td>1.88</td>\n",
       "      <td>3561.146205</td>\n",
       "    </tr>\n",
       "    <tr>\n",
       "      <th>2</th>\n",
       "      <td>3</td>\n",
       "      <td>14.02</td>\n",
       "      <td>2.59</td>\n",
       "      <td>4.01</td>\n",
       "      <td>72.80</td>\n",
       "      <td>0.89</td>\n",
       "      <td>2.72</td>\n",
       "      <td>4284.348574</td>\n",
       "    </tr>\n",
       "    <tr>\n",
       "      <th>3</th>\n",
       "      <td>4</td>\n",
       "      <td>17.67</td>\n",
       "      <td>6.75</td>\n",
       "      <td>2.63</td>\n",
       "      <td>39.81</td>\n",
       "      <td>1.08</td>\n",
       "      <td>1.88</td>\n",
       "      <td>5098.680869</td>\n",
       "    </tr>\n",
       "    <tr>\n",
       "      <th>4</th>\n",
       "      <td>5</td>\n",
       "      <td>17.52</td>\n",
       "      <td>4.57</td>\n",
       "      <td>3.18</td>\n",
       "      <td>10.94</td>\n",
       "      <td>1.51</td>\n",
       "      <td>1.90</td>\n",
       "      <td>3406.132832</td>\n",
       "    </tr>\n",
       "  </tbody>\n",
       "</table>\n",
       "</div>"
      ],
      "text/plain": [
       "   Well    Por  Perm    AI  Brittle   TOC    VR         Prod\n",
       "0     1  12.08  2.92  2.80    81.40  1.16  2.31  4165.196191\n",
       "1     2  12.38  3.53  3.22    46.17  0.89  1.88  3561.146205\n",
       "2     3  14.02  2.59  4.01    72.80  0.89  2.72  4284.348574\n",
       "3     4  17.67  6.75  2.63    39.81  1.08  1.88  5098.680869\n",
       "4     5  17.52  4.57  3.18    10.94  1.51  1.90  3406.132832"
      ]
     },
     "execution_count": 2,
     "metadata": {},
     "output_type": "execute_result"
    }
   ],
   "source": [
    "data = pd.read_csv('unconv.csv')\n",
    "data.head()"
   ]
  },
  {
   "cell_type": "markdown",
   "id": "58639b40",
   "metadata": {
    "id": "58639b40"
   },
   "source": [
    "## Практика: линейная регрессия по методу наименьших квадратов"
   ]
  },
  {
   "cell_type": "markdown",
   "id": "a90535b8",
   "metadata": {
    "id": "a90535b8"
   },
   "source": [
    "Для начала построим простейшую модель линейной регрессии, проанализируем результаты её работы и выберем наиболее значимые факторы для прогнозирования.\n",
    "\n",
    "В первой части вам предстоит выполнить задания 5.0–5.6. Максимальное количество баллов, которое можно получить, — 9."
   ]
  },
  {
   "cell_type": "markdown",
   "id": "4061b706",
   "metadata": {
    "id": "4061b706"
   },
   "source": [
    "### Задание 5.0. (не оценивается)\n",
    "\n",
    "Проведите небольшой разведывательный анализ, чтобы поближе познакомиться с исходными данными. Постройте несколько визуализаций, которые помогут вам понять, как устроены исходные признаки, а также смогут продемонстрировать взаимосвязь факторов. \n",
    "\n",
    "Сделайте промежуточные выводы из проведённого разведывательного анализа."
   ]
  },
  {
   "cell_type": "code",
   "execution_count": 3,
   "id": "daf1ccc7",
   "metadata": {
    "id": "daf1ccc7"
   },
   "outputs": [
    {
     "name": "stdout",
     "output_type": "stream",
     "text": [
      "\n",
      "Проверка на пропуски:\n",
      "Well       0\n",
      "Por        0\n",
      "Perm       0\n",
      "AI         0\n",
      "Brittle    0\n",
      "TOC        0\n",
      "VR         0\n",
      "Prod       0\n",
      "dtype: int64\n"
     ]
    }
   ],
   "source": [
    "# Проверка пропуски в данных\n",
    "print(\"\\nПроверка на пропуски:\")\n",
    "print(data.isnull().sum())"
   ]
  },
  {
   "cell_type": "code",
   "execution_count": 5,
   "id": "2530e58c-54f7-477b-9dd0-b10d381c9275",
   "metadata": {},
   "outputs": [
    {
     "data": {
      "image/png": "[encoded data removed]",
      "text/plain": [
       "<Figure size 640x480 with 7 Axes>"
      ]
     },
     "metadata": {},
     "output_type": "display_data"
    }
   ],
   "source": [
    "#Построим распределение по каждому параметру\n",
    "plt.subplot(3, 3, 1)\n",
    "sns.histplot(data['Por'], bins=30, kde=True)\n",
    "plt.title('Распределение Por')\n",
    "\n",
    "plt.subplot(3, 3, 2)\n",
    "sns.histplot(data['Perm'], bins=30, kde=True)\n",
    "plt.title('Распределение Perm')\n",
    "\n",
    "plt.subplot(3, 3, 3)\n",
    "sns.histplot(data['AI'], bins=30, kde=True)\n",
    "plt.title('Распределение AI')\n",
    "\n",
    "plt.subplot(3, 3, 4)\n",
    "sns.histplot(data['Brittle'], bins=30, kde=True)\n",
    "plt.title('Распределение Brittle')\n",
    "\n",
    "plt.subplot(3, 3, 5)\n",
    "sns.histplot(data['TOC'], bins=30, kde=True)\n",
    "plt.title('Распределение TOC')\n",
    "\n",
    "plt.subplot(3, 3, 6)\n",
    "sns.histplot(data['VR'], bins=30, kde=True)\n",
    "plt.title('Распределение VR')\n",
    "\n",
    "plt.subplot(3, 3, 7)\n",
    "sns.histplot(data['Prod'], bins=30, kde=True)\n",
    "plt.title('Распределение Prod')\n",
    "\n",
    "plt.tight_layout()\n",
    "plt.show()"
   ]
  },
  {
   "cell_type": "markdown",
   "id": "d11cb44f",
   "metadata": {
    "id": "d11cb44f"
   },
   "source": [
    "### Задание 5.1. (2 балла)\n",
    "\n",
    "Постройте корреляционную матрицу факторов, включив в неё целевой признак. \n",
    "\n",
    "Для наглядности визуализируйте полученную матрицу с помощью тепловой карты. \n",
    "\n",
    "**Примечание.** *Для визуализации вы можете использовать любую из знакомых вам библиотек.*\n",
    "\n",
    "На основе построенной корреляционной матрицы ответьте на следующий вопрос:\n",
    "\n",
    "* Какие факторы сильнее всего коррелируют с целевой переменной?\n",
    "\n",
    "Вычислите ранг и определитель полученной матрицы корреляций и приведите развёрнутые ответы на следующие вопросы:\n",
    "* Является ли корреляционная матрица плохо обусловенной (близок ли её опредитель к нулю)?\n",
    "* Что вы можете сказать о наличии коллинераности/мультиколлинеарности в данных? \n",
    "* Применима ли в данном случае модель классической линейной регрессии по методу наименьших квадратов и почему? "
   ]
  },
  {
   "cell_type": "markdown",
   "id": "57OjUl5e2oiL",
   "metadata": {
    "id": "57OjUl5e2oiL"
   },
   "source": [
    "**Критерии оценивания:**\n",
    "- Задание выполнено верно, учтены все условия (**2 балла**): \n",
    "    * приведён код для расчёта корреляционной матрицы;\n",
    "    * приведён код для визуализации корреляционной матрицы в виде тепловой карты;\n",
    "    * рассчитаны ранг и определитель корреляционной матрицы;\n",
    "    * предоставлены обоснованные ответы на все поставленные вопросы. \n",
    "\n",
    "- Задание выполнено верно, но не учтено одно условие (**1 балл**).\n",
    "- Задание выполнено неверно, не учтено несколько условий (**0 баллов**)."
   ]
  },
  {
   "cell_type": "code",
   "execution_count": 8,
   "id": "af00a5a0",
   "metadata": {
    "id": "af00a5a0"
   },
   "outputs": [
    {
     "data": {
      "image/png": "[encoded data removed]",
      "text/plain": [
       "<Figure size 1000x800 with 2 Axes>"
      ]
     },
     "metadata": {},
     "output_type": "display_data"
    },
    {
     "name": "stdout",
     "output_type": "stream",
     "text": [
      "Ранг корреляционной матрицы: 8\n",
      "Определитель корреляционной матрицы: 0.0007299388072652082\n"
     ]
    }
   ],
   "source": [
    "# Ваш код здесь\n",
    "plt.figure(figsize=(10, 8))\n",
    "corr = data.corr()\n",
    "sns.heatmap(corr, annot=True, fmt=\".2f\", cmap='coolwarm')\n",
    "plt.title('Корреляционная матрица')\n",
    "plt.show()\n",
    "\n",
    "rank = np.linalg.matrix_rank(corr)\n",
    "determinant = np.linalg.det(corr)\n",
    "\n",
    "print(f\"Ранг корреляционной матрицы: {rank}\")\n",
    "print(f\"Определитель корреляционной матрицы: {determinant}\")"
   ]
  },
  {
   "cell_type": "markdown",
   "id": "9a56013d",
   "metadata": {
    "id": "9a56013d"
   },
   "source": [
    "> *Ваши выводы здесь*\n",
    "> Высокая кореляция с целевым показателем у атрибутов: Por - Пористость и Perm - проницаемость. Так же влияет атрибут TOC -общий органичесий углерод.\n",
    "> Ранг матрицы 8 - указывает на то. что имеется 8 линейно незавиимых показателей.\n",
    "> Определитель близок к 0 что говорит о мультиколинеарности."
   ]
  },
  {
   "cell_type": "markdown",
   "id": "43fd91c4",
   "metadata": {
    "id": "43fd91c4"
   },
   "source": [
    "### Задание 5.2. (2 балла)\n",
    "\n",
    "Создайте матрицу наблюдений `X` и вектор правильных ответов `y`. В качестве факторов для матрицы наблюдений возьмите все имеющиеся в данных признаки. \n",
    "\n",
    "Постройте модель линейной регрессии по методу наименьших квадратов. Для этого воспользуйтесь матричной формулой МНК и инструментарием библиотеки numpy. \n",
    "\n",
    "Выведите на экран полученные оценки коэффициентов модели, округлённые до целого.\n",
    "\n",
    "Приведите подробные выводы по полученным результатам, ответив на следующие вопросы:\n",
    "* Есть ли в ваших данных признаки, которые, согласно модели, можно назвать неинформативными, то есть они не оказывают влияния на целевую переменную или оказывают шумовое влияние?\n",
    "* Приведите интерпретацию нескольких (двух или трёх) коэффициентов полученной модели линейной регрессии.\n"
   ]
  },
  {
   "cell_type": "markdown",
   "id": "QtNtTUzI4Cpq",
   "metadata": {
    "id": "QtNtTUzI4Cpq"
   },
   "source": [
    "**Критерии оценивания:**\n",
    "- Задание выполнено верно, учтены все условия (**2 балла**): \n",
    "    * приведён код для нахождения параметров модели линейной регрессии с помощью матричной формулы МНК;\n",
    "    * на основе полученных параметров даны верные ответы на поставленные вопросы;\n",
    "    * приведена корректная интерпретация нескольких коэффициентов полученной модели линейной регрессии.\n",
    "\n",
    "- Задание выполнено верно, но не учтено одно из условий (**1 балл**).\n",
    "- Задание выполнено неверно, не учтено несколько условий (**0 баллов**)."
   ]
  },
  {
   "cell_type": "code",
   "execution_count": 9,
   "id": "5724288c",
   "metadata": {
    "id": "5724288c"
   },
   "outputs": [
    {
     "name": "stdout",
     "output_type": "stream",
     "text": [
      "Оценки коэффициентов модели (округленные до целых чисел):\n",
      "Свободный член (константа): -1230.0\n",
      "Пористость (Por): 230.0\n",
      "Проницаемость (Perm): 116.0\n",
      "Индекс литологии (AI): -364.0\n",
      "Индекс хрупкости (Brittle): 25.0\n",
      "Общее содержание углерода (TOC): -77.0\n",
      "Индекс витринизации (VR): 783.0\n"
     ]
    }
   ],
   "source": [
    "# Ваш код здесь\n",
    "# Создание матрицы признаков X и вектора целевой переменной y\n",
    "X = data.drop(['Well', 'Prod'], axis=1).values \n",
    "y = data['Prod'].values\n",
    "\n",
    "# Добавление столбца единиц для свободного члена\n",
    "X = np.concatenate((np.ones((X.shape[0], 1)), X), axis=1)\n",
    "\n",
    "# Вычисление коэффициентов по матричной формуле МНК: β = (X^T X)^(-1) X^T y\n",
    "beta_hat = np.linalg.solve(X.T @ X, X.T @ y)\n",
    "\n",
    "# Округление коэффициентов до целых чисел\n",
    "beta_hat_rounded = np.round(beta_hat)\n",
    "\n",
    "# Создание словаря с названиями признаков и их коэффициентами\n",
    "coefficients = {\n",
    "    'Свободный член (константа)': beta_hat_rounded[0],\n",
    "    'Пористость (Por)': beta_hat_rounded[1],\n",
    "    'Проницаемость (Perm)': beta_hat_rounded[2],\n",
    "    'Индекс литологии (AI)': beta_hat_rounded[3],\n",
    "    'Индекс хрупкости (Brittle)': beta_hat_rounded[4],\n",
    "    'Общее содержание углерода (TOC)': beta_hat_rounded[5],\n",
    "    'Индекс витринизации (VR)': beta_hat_rounded[6]\n",
    "}\n",
    "\n",
    "# Вывод результатов\n",
    "print(\"Оценки коэффициентов модели (округленные до целых чисел):\")\n",
    "for feature, coef in coefficients.items():\n",
    "    print(f\"{feature}: {coef}\")"
   ]
  },
  {
   "cell_type": "markdown",
   "id": "bab9ee21",
   "metadata": {
    "id": "bab9ee21"
   },
   "source": [
    "> *Ваши выводы здесь*\n",
    "> Признак Brittle (Индекс хрупкости) оказывает наименьшее влияние на целевую переменную.\n",
    "> При увеличении признака Por (Пористомь) на 1, увеличивает целевой показатель на 230 едениц\n",
    "> При уведличении признака AI (акустический импеданс) на 1, снижает целефой показатель на 364 едениц\n",
    "> При увеличении признака Brittle (коэффициент хрупкости скважины ) на 1, приводит к увеличению целефого показателя на 783 еденицы"
   ]
  },
  {
   "cell_type": "markdown",
   "id": "4a05a4ac",
   "metadata": {
    "id": "4a05a4ac"
   },
   "source": [
    "### Задание 5.3. (1 балл)\n",
    "\n",
    "Теперь потренируемся строить предсказание для наблюдений целевой переменной. \n",
    "\n",
    "**а)** Постройте прогноз выработки газа для скважины со следующими параметрами:\n",
    "\n",
    "```python\n",
    "{\n",
    "    'Well': 106.0,\n",
    "    'Por': 15.32,\n",
    "    'Perm': 3.71,\n",
    "    'AI': 3.29,\n",
    "    'Brittle': 55.99,\n",
    "    'TOC': 1.35,\n",
    "    'VR': 2.42\n",
    " }\n",
    "```\n",
    "\n",
    "Рассчитайте абсолютную ошибку построенного вами прогноза для предложенной скважины (в миллионах кубических футов в день), если известно, что на этой скважине производится `4748.315024` миллионов кубических футов газа в день. \n",
    "\n",
    "**б)** Постройте прогноз выработки газа для всех скважин из обучающего набора данных. Выберите метрику, по которой вы будете оценивать качество регрессионных моделей и сравнивать их между собой (можно использовать несколько метрик, но не более двух).\n",
    "\n",
    "Рассчитайте значение выбранной метрики для вашей модели. Приведите интерпретацию полученного результата. "
   ]
  },
  {
   "cell_type": "markdown",
   "id": "qUDcep5Q5GWU",
   "metadata": {
    "id": "qUDcep5Q5GWU"
   },
   "source": [
    "**Критерии оценивания:**\n",
    "- Задание выполнено верно, учтены все условия (**1 балл**): \n",
    "    * приведён код для построения прогноза выработки газа на указанной скважине и рассчитана абсолютная ошибка прогноза для этой скважины;\n",
    "    * выбрана корректная для поставленной задачи метрика (или метрики) оценки качества модели и приведён код для расчёта этой метрики на всём обучающем наборе данных;\n",
    "    * приведена корректная интерпретация полученного результата.\n",
    "\n",
    "- Задание выполнено верно, но не учтено одно из условий, или задание выполнено неверно (**0 баллов**)."
   ]
  },
  {
   "cell_type": "code",
   "execution_count": 11,
   "id": "e4291db0",
   "metadata": {
    "id": "e4291db0"
   },
   "outputs": [
    {
     "name": "stdout",
     "output_type": "stream",
     "text": [
      "Прогноз для тестовой скважины: 4722.72\n",
      "Фактическое значение: 4748.315024\n",
      "Абсолютная ошибка прогноза: 25.59\n",
      "\n",
      "Метрики качества модели:\n",
      "Средняя абсолютная ошибка (MAE): 153.60\n",
      "Коэффициент детерминации (R²): 0.960\n",
      "\n",
      "Интерпретация результатов:\n",
      "- В среднем модель ошибается на 153.60 млн куб. футов газа в день\n",
      "- Модель объясняет 96.0% вариации в данных\n"
     ]
    }
   ],
   "source": [
    "# Ваш код здесь\n",
    "# Данные для прогноза\n",
    "test_data = {\n",
    "    'Well': 106.0,\n",
    "    'Por': 15.32,\n",
    "    'Perm': 3.71,\n",
    "    'AI': 3.29,\n",
    "    'Brittle': 55.99,\n",
    "    'TOC': 1.35,\n",
    "    'VR': 2.42\n",
    "}\n",
    "\n",
    "# Подготовка данных для прогноза одной скважины\n",
    "X_test = np.array([1, test_data['Por'], test_data['Perm'], test_data['AI'],\n",
    "                   test_data['Brittle'], test_data['TOC'], test_data['VR']])\n",
    "\n",
    "# Прогноз для одной скважины\n",
    "pred_single = X_test @ beta_hat\n",
    "actual_value = 4748.315024\n",
    "\n",
    "# Расчет абсолютной ошибки\n",
    "abs_error = abs(actual_value - pred_single)\n",
    "\n",
    "print(f\"Прогноз для тестовой скважины: {pred_single:.2f}\")\n",
    "print(f\"Фактическое значение: {actual_value}\")\n",
    "print(f\"Абсолютная ошибка прогноза: {abs_error:.2f}\")\n",
    "\n",
    "# Прогноз для всех скважин обучающего набора\n",
    "y_pred = X @ beta_hat\n",
    "\n",
    "# Расчет метрик качества\n",
    "mae = mean_absolute_error(y, y_pred)\n",
    "r2 = r2_score(y, y_pred)\n",
    "\n",
    "print(\"\\nМетрики качества модели:\")\n",
    "print(f\"Средняя абсолютная ошибка (MAE): {mae:.2f}\")\n",
    "print(f\"Коэффициент детерминации (R²): {r2:.3f}\")\n",
    "\n",
    "print(\"\\nИнтерпретация результатов:\")\n",
    "print(f\"- В среднем модель ошибается на {mae:.2f} млн куб. футов газа в день\")\n",
    "print(f\"- Модель объясняет {r2*100:.1f}% вариации в данных\")"
   ]
  },
  {
   "cell_type": "markdown",
   "id": "c9bee4bc",
   "metadata": {
    "id": "c9bee4bc"
   },
   "source": [
    "> *Ваши выводы здесь*\n",
    "> Для оценки качества модели выбраны две метрики:\n",
    "> \n",
    "> MAE - показывает среднюю абсолютную ошибку прогноза R² (коэффициент детерминации) - показывает долю объясненной дисперсии Эти метрики выбраны потому что:\n",
    ">\n",
    "> MAE легко интерпретируется в исходных единицах измерения R² позволяет оценить общее качество подгонки модели Обе метрики широко используются для оценки регрессионных моделей.\n",
    "> \n",
    "> 1.Для тестовой скважины: Модель показала высокую точность прогноза с абсолютной ошибкой всего 25.59 млн куб. футов газа в день Прогнозное значение (4722.72) очень близко к фактическому (4748.32) Ошибка составляет менее 1% от фактического значения.\n",
    "> \n",
    "> 2.Для всего набора данных: Модель демонстрирует высокую пресказательную способностьR² = 0.96 Вариации данных 96% объяснются выбранными признаками. Средняя абсолютная ошибка (MAE) в 153.60 единиц является приемлемой, учитывая масштаб значений целевой переменной (тысячи единиц)\n",
    "> \n",
    "> 3. Практическая ценност: Модель может эффективно использоваться для прогнозирования выработки газа. Высокий R² указывает на надёжность выбранных признаков Точность прогнозов достаточна для практического применения"
   ]
  },
  {
   "cell_type": "markdown",
   "id": "0c25c3aa",
   "metadata": {
    "id": "0c25c3aa"
   },
   "source": [
    "### Задание 5.4. (1 балл)\n",
    "\n",
    "Настало время анализа построенной модели. Посмотрите на коэффициенты и сравните их знаки со значениями выборочных корреляций между целевым признаком и факторами, которые вы нашли ранее.\n",
    "\n",
    "Дайте развёрнутые ответы на следующие вопросы:\n",
    "\n",
    "* Есть ли в вашей модели фактор, при котором коэффициент в модели линейной регрессии противоречит соответствующему коэффициенту корреляции? Например, корреляция говорит, что зависимость между фактором и целевой переменной прямая, а модель говорит обратное. Если таких факторов несколько, укажите их все.\n",
    "* Как вы считаете, с чем связано полученное противоречие результатов?"
   ]
  },
  {
   "cell_type": "markdown",
   "id": "ngJ3UdYb6Ll6",
   "metadata": {
    "id": "ngJ3UdYb6Ll6"
   },
   "source": [
    "**Критерии оценивания:**\n",
    "\n",
    "- Задание выполнено верно, даны корректные развёрнутые ответы на все поставленные в задании вопросы (**1 балл**). \n",
    "\n",
    "- Задание выполнено неверно, даны некорректные ответы на один или несколько поставленных в задании вопросов (**0 баллов**)."
   ]
  },
  {
   "cell_type": "code",
   "execution_count": 12,
   "id": "v-zIxRPY9wK7",
   "metadata": {
    "id": "v-zIxRPY9wK7"
   },
   "outputs": [
    {
     "name": "stdout",
     "output_type": "stream",
     "text": [
      "Сравнение корреляций и коэффициентов регрессии:\n",
      "         Корреляция  Коэффициент регрессии\n",
      "Por        0.861910                  230.0\n",
      "Perm       0.727426                  116.0\n",
      "AI        -0.390835                 -364.0\n",
      "Brittle    0.237155                   25.0\n",
      "TOC        0.654445                  -77.0\n",
      "VR         0.323182                  783.0\n"
     ]
    }
   ],
   "source": [
    "# Ваш код здесь\n",
    "#Расчет корреляций\n",
    "correlations = data.drop('Well', axis=1).corr()['Prod'].drop('Prod')\n",
    "\n",
    "# Сравнительная таблица\n",
    "comparison = pd.DataFrame({\n",
    "    'Корреляция': correlations,\n",
    "    'Коэффициент регрессии': beta_hat_rounded[1:]  # без константы\n",
    "}, index=correlations.index)\n",
    "\n",
    "print(\"Сравнение корреляций и коэффициентов регрессии:\")\n",
    "print(comparison)"
   ]
  },
  {
   "cell_type": "markdown",
   "id": "qeowwIp99yBf",
   "metadata": {
    "id": "qeowwIp99yBf"
   },
   "source": [
    "> *Ваши выводы здесь*\n",
    "> На основе сравнения корреляций и коэффициентов регрессии можно сделать следующие важные выводы:\n",
    ">\n",
    "> Выявленные противоречия: TOC (Общее содержание углерода): имеет положительную корреляцию (0.65), но отрицательный коэффициент регрессии (-77) VR (Индекс витринизации): показывает умеренную корреляцию (0.32), но имеет самый высокий положительный коэффициент регрессии (783)\n",
    ">\n",
    "> Согласованные результаты: Por (Пористость): сильная положительная корреляция (0.86) соответствует высокому положительному коэффициенту (230) AI (Индекс литологии): отрицательная корреляция (-0.39) соответствует отрицательному коэффициенту (-364) Perm (Проницаемость): положительная корреляция (0.73) соответствует положительному коэффициенту (116)\n",
    ">\n",
    "> Практическая значимость: Модель выявила более сложные взаимосвязи между параметрами, чем простой корреляционный анализ Некоторые факторы (VR) оказывают более сильное влияние в контексте многомерной модели Противоречия в знаках указывают на наличие существенных взаимодействий между факторами Рекомендации: При прогнозировании продуктивности скважин следует учитывать комплексное влияние всех факторов Особое внимание стоит уделить параметрам VR и TOC, где простой корреляционный анализ может давать неполную картину Для повышения точности прогнозов важно рассматривать все параметры в совокупности"
   ]
  },
  {
   "cell_type": "markdown",
   "id": "9cea9195",
   "metadata": {
    "id": "9cea9195"
   },
   "source": [
    "### Задание 5.5. (2 балла)\n",
    "\n",
    "* Исключите из данных сильно коррелированные между собой факторы. Под сильной корреляцией в данной задаче будем понимать значения выше `0.7`.\n",
    "\n",
    "Выбирая, какой из коррелированных факторов оставить, руководствуйтесь коэффициентом корреляции с целевой переменной: оставляйте тот фактор, который больше всего коррелирует с целевой переменной (объёмом добычи газа).\n",
    "\n",
    "* Также исключите из данных факторы, для которых корреляция с целевой переменной меньше `0.05`.\n",
    "\n",
    "Постройте модель линейной регрессии на обновлённых после удаления факторов данных по методу наименьших квадратов. Для этого используйте матричную формулу и библиотеку numpy. Выведите значение полученных коэффициентов, округлённых до целого.\n",
    "\n",
    "Сделайте прогноз для всего обучающего набора данных и рассчитайте выбранную вами ранее метрику (или метрики). \n",
    "\n",
    "Дайте подробные ответы на следующие вопросы:\n",
    "\n",
    "* Приведите интерпретацию нескольких полученных коэффициентов (двух или трёх). Сравните их значения с полученными ранее.\n",
    "* Приведите интерпретацию полученных значений метрик. Сравните их значения с полученными ранее. \n",
    "* Удалось ли вам побороть противоречие коэффициентов линейной регрессии и коэффициентов корреляции?"
   ]
  },
  {
   "cell_type": "markdown",
   "id": "vlUYVjJP6oXN",
   "metadata": {
    "id": "vlUYVjJP6oXN"
   },
   "source": [
    "**Критерии оценивания:**\n",
    "- Задание выполнено верно, учтены все условия (**2 балла**): \n",
    "    * отобраны верные факторы;\n",
    "    * на основе отобранных факторов построена модель линейной регрессии с помощью матричной формулы МНК и найдены параметры модели, соответствующие каждому из факторов;\n",
    "    * построен прогноз для всего обучающего набора данных и рассчитано значение метрики (метрика должна быть выбрана корректно);\n",
    "    * даны ответы на все поставленные в задании вопросы.\n",
    "\n",
    "- Задание выполнено верно, но не учтено одно из условий (**1 балл**).\n",
    "- Задание выполнено верно, не учтено несколько из условий (**0 баллов**)."
   ]
  },
  {
   "cell_type": "code",
   "execution_count": 13,
   "id": "5d5ZJ0lX_UHe",
   "metadata": {
    "id": "5d5ZJ0lX_UHe"
   },
   "outputs": [
    {
     "name": "stdout",
     "output_type": "stream",
     "text": [
      "Отобранные признаки: ['Por', 'AI', 'VR', 'Brittle']\n",
      "\n",
      "Коэффициенты новой модели:\n",
      "Константа: -1835.0\n",
      "Por: 293.0\n",
      "AI: -200.0\n",
      "VR: 517.0\n",
      "Brittle: 28.0\n",
      "\n",
      "Метрики качества новой модели:\n",
      "MAE: 171.43\n",
      "R²: 0.945\n"
     ]
    }
   ],
   "source": [
    "# Ваш код здесь\n",
    "# 1. Анализ корреляций\n",
    "corr_matrix = data.drop('Well', axis=1).corr()\n",
    "target_corr = corr_matrix['Prod'].abs()\n",
    "\n",
    "# Отбор признаков\n",
    "features_to_keep = []\n",
    "used_features = set()\n",
    "\n",
    "# Сортируем признаки по корреляции с целевой переменной\n",
    "for feature in target_corr.sort_values(ascending=False).index:\n",
    "    if feature == 'Prod':\n",
    "        continue\n",
    "\n",
    "    if target_corr[feature] < 0.05:\n",
    "        continue\n",
    "\n",
    "    is_correlated = False\n",
    "    for used_feature in used_features:\n",
    "        if abs(corr_matrix.loc[feature, used_feature]) > 0.7:\n",
    "            is_correlated = True\n",
    "            break\n",
    "\n",
    "    if not is_correlated:\n",
    "        features_to_keep.append(feature)\n",
    "        used_features.add(feature)\n",
    "\n",
    "# 2. Создание новой матрицы признаков\n",
    "X_selected = data[features_to_keep].values\n",
    "X_selected = np.concatenate((np.ones((X_selected.shape[0], 1)), X_selected), axis=1)\n",
    "y = data['Prod'].values\n",
    "\n",
    "# 3. Построение новой модели\n",
    "beta_new = np.linalg.solve(X_selected.T @ X_selected, X_selected.T @ y)\n",
    "beta_new_rounded = np.round(beta_new)\n",
    "\n",
    "# 4. Прогнозирование и оценка качества\n",
    "y_pred_new = X_selected @ beta_new\n",
    "mae_new = mean_absolute_error(y, y_pred_new)\n",
    "r2_new = r2_score(y, y_pred_new)\n",
    "\n",
    "# Вывод результатов\n",
    "print(\"Отобранные признаки:\", features_to_keep)\n",
    "print(\"\\nКоэффициенты новой модели:\")\n",
    "print(\"Константа:\", beta_new_rounded[0])\n",
    "for feat, coef in zip(features_to_keep, beta_new_rounded[1:]):\n",
    "    print(f\"{feat}: {coef}\")\n",
    "\n",
    "print(\"\\nМетрики качества новой модели:\")\n",
    "print(f\"MAE: {mae_new:.2f}\")\n",
    "print(f\"R²: {r2_new:.3f}\")\n"
   ]
  },
  {
   "cell_type": "markdown",
   "id": "KxbYvMDo_WLe",
   "metadata": {
    "id": "KxbYvMDo_WLe"
   },
   "source": [
    "> *Ваши выводы здесь*\n",
    "> Анализ отобранных признаков:\n",
    "> Модель сократилась с 6 до 4 признаков Исключены Perm и TOC из-за высокой корреляции с Por Оставшиеся признаки имеют низкую взаимную корреляцию Por сохранен как наиболее значимый предиктор Сравнение коэффициентов с предыдущей моделью: Por: увеличился с 230 до 293 - стал более значимым AI: уменьшился с -364 до -200 - влияние стало умереннее VR: уменьшился с 783 до 517 - более реалистичное значение Brittle: практически не изменился (25 vs 28) Изменение метрик качества: MAE немного увеличился (с 153.60 до 171.43) R² незначительно снизился (с 0.960 до 0.945) Снижение точности минимально при существенном упрощении модели Ключевые улучшения: Устранены противоречия в знаках коэффициентов Модель стала более устойчивой и интерпретируемой Сохранена высокая предсказательная способность Достигнут баланс между простотой и точностью Новая модель предпочтительнее, благодаря своей надежности и прозрачности при сохранении высокой точности прогнозов."
   ]
  },
  {
   "cell_type": "markdown",
   "id": "7d50db12",
   "metadata": {
    "id": "7d50db12"
   },
   "source": [
    "### Задание 5.6. (1 балл)\n",
    "\n",
    "Наконец, давайте построим модель линейной регрессии из библиотеки `scikit-learn (sklearn)` и сравним результаты её работы с теми, что нам удалось получить вручную. \n",
    "\n",
    "Постройте модель линейной регрессии на обновлённых после удаления факторов данных по методу наименьших квадратов. Для этого воспользуйтесь классом `LinearRegression` из библиотеки `sklearn`. Выведите значения полученных коэффициентов, округлённые до целого.\n",
    "\n",
    "Сделайте прогноз для всего обучающего набора данных и рассчитайте значение выбранной вами метрики (или метрик).\n",
    "\n",
    "Сравните результаты библиотечной реализации с тем, что вы получили ранее. "
   ]
  },
  {
   "cell_type": "markdown",
   "id": "emu5D3w278JP",
   "metadata": {
    "id": "emu5D3w278JP"
   },
   "source": [
    "**Критерии оценивания:**\n",
    "\n",
    "- Задание выполнено верно, учтены все условия (**1 балл**): \n",
    "    * на основе отобранных факторов построена модель линейной регрессии из библиотеки sklearn и найдены параметры модели, соответствующие каждому из факторов;\n",
    "    * построен прогноз для всего обучающего набора данных и рассчитано значение метрики (метрика должна быть выбрана корректно);\n",
    "    * приведён вывод о соответствии результатов, полученных вручную и с помощью библиотеки.\n",
    "- Задание выполнено неверно, не учтено одно или несколько условий (**0 баллов**)."
   ]
  },
  {
   "cell_type": "code",
   "execution_count": 18,
   "id": "Gpdpfq59AKGu",
   "metadata": {
    "id": "Gpdpfq59AKGu"
   },
   "outputs": [
    {
     "name": "stdout",
     "output_type": "stream",
     "text": [
      "Коэффициенты модели sklearn:\n",
      "Константа: -1835.0\n",
      "Por: 293.0\n",
      "AI: -200.0\n",
      "VR: 517.0\n",
      "Brittle: 28.0\n",
      "\n",
      "Метрики качества модели sklearn:\n",
      "MAE: 171.43\n",
      "R²: 0.945\n",
      "\n",
      "Сравнение с предыдущей моделью:\n",
      "MAE: 171.43 vs 171.43\n",
      "R²: 0.945 vs 0.945\n",
      "Прогнозы для новой скважины:\n",
      "Sklearn модель: 4795.50\n",
      "Наша модель: 4795.50\n",
      "Фактическое значение: 4748.32\n",
      "Абсолютная ошибка sklearn: 47.18\n",
      "Абсолютная ошибка нашей модели: 47.18\n"
     ]
    }
   ],
   "source": [
    "# Ваш код здесь\n",
    "#Подготовка данных\n",
    "X_sklearn = data[['Por', 'AI', 'VR', 'Brittle']]\n",
    "y = data['Prod']\n",
    "\n",
    "# Создание и обучение модели\n",
    "model = LinearRegression()\n",
    "model.fit(X_sklearn, y)\n",
    "\n",
    "# Получение коэффициентов\n",
    "sklearn_coef = np.round(model.coef_)\n",
    "sklearn_intercept = np.round(model.intercept_)\n",
    "\n",
    "# Вывод коэффициентов\n",
    "print(\"Коэффициенты модели sklearn:\")\n",
    "print(f\"Константа: {sklearn_intercept}\")\n",
    "for feat, coef in zip(X_sklearn.columns, sklearn_coef):\n",
    "    print(f\"{feat}: {coef}\")\n",
    "\n",
    "# Прогнозирование и расчет метрик\n",
    "y_pred_sklearn = model.predict(X_sklearn)\n",
    "mae_sklearn = mean_absolute_error(y, y_pred_sklearn)\n",
    "r2_sklearn = r2_score(y, y_pred_sklearn)\n",
    "\n",
    "print(\"\\nМетрики качества модели sklearn:\")\n",
    "print(f\"MAE: {mae_sklearn:.2f}\")\n",
    "print(f\"R²: {r2_sklearn:.3f}\")\n",
    "\n",
    "print(\"\\nСравнение с предыдущей моделью:\")\n",
    "print(f\"MAE: {mae_sklearn:.2f} vs {mae_new:.2f}\")\n",
    "print(f\"R²: {r2_sklearn:.3f} vs {r2_new:.3f}\")\n",
    "\n",
    "new_data = pd.DataFrame({\n",
    "    'Por': [15.32],\n",
    "    'AI': [3.29],\n",
    "    'VR': [2.42],\n",
    "    'Brittle': [55.99]\n",
    "})\n",
    "\n",
    "# Прогноз с помощью sklearn модели\n",
    "prediction_sklearn = model.predict(new_data)\n",
    "\n",
    "# Прогноз с помощью нашей модели (для сравнения)\n",
    "X_manual = np.array([1, 15.32, 3.29, 2.42, 55.99])  # добавляем 1 для константы\n",
    "prediction_manual = X_manual @ beta_new\n",
    "\n",
    "print(\"Прогнозы для новой скважины:\")\n",
    "print(f\"Sklearn модель: {prediction_sklearn[0]:.2f}\")\n",
    "print(f\"Наша модель: {prediction_manual:.2f}\")\n",
    "print(f\"Фактическое значение: 4748.32\")\n",
    "print(f\"Абсолютная ошибка sklearn: {abs(4748.32 - prediction_sklearn[0]):.2f}\")\n",
    "print(f\"Абсолютная ошибка нашей модели: {abs(4748.32 - prediction_manual):.2f}\")"
   ]
  },
  {
   "cell_type": "markdown",
   "id": "WT9cdHAbAMG7",
   "metadata": {
    "id": "WT9cdHAbAMG7"
   },
   "source": [
    "> *Ваши выводы здесь*\n",
    "> Сравнение реализаций МНК:\n",
    "> Ручная реализация и sklearn дают абсолютно идентичные результаты для упрощенной модели (с 4 признаками) Коэффициенты и метрики качества полностью совпадают.\n",
    ">\n",
    ">  MAE: 171.43, R²: 0.945 для обеих реализаций Сравнение с первоначальной моделью (6 признаков): Первоначальная модель показывала лучшие общие метрики (MAE: 153.60, R²: 0.960) На тестовой скважине первоначальная модель давала меньшую ошибку (25.59 vs 47.18) Преимущества и недостатки: Первоначальная модель (6 признаков): Лучшие метрики качества Меньшая ошибка на тестовой скважине Но есть проблема мультиколлинеарности Упрощенная модель (4 признака):\n",
    ">\n",
    "> Более устойчивая и интерпретируемая Отсутствие мультиколлинеарности Незначительное ухудшение метрик Итоговый вывод: Несмотря на небольшое снижение точности, упрощенная модель предпочтительнее для практического применения благодаря своей надежности и интерпретируемости. Реализация через sklearn подтверждает корректность наших расчетов"
   ]
  },
  {
   "cell_type": "markdown",
   "id": "5346338e",
   "metadata": {
    "id": "5346338e"
   },
   "source": [
    "## Практика: полиномиальная регрессия и регуляризация"
   ]
  },
  {
   "cell_type": "markdown",
   "id": "aad9e3a6",
   "metadata": {
    "id": "aad9e3a6"
   },
   "source": [
    "Мы продолжаем работать над задачей от владельца компании «Газ-Таз-Ваз-Нефть» Василия.\n",
    "\n",
    "Ранее мы построили модель линейной регрессии, которая прогнозирует выработку газа на скважине. Для этого мы с помощью матрицы корреляций и рассуждений отобрали некоррелированные, значимые для предсказания признаки. **Далее мы будем использовать именно их (см. задание 5.5).**\n",
    "\n",
    "Мы хотим улучшить результат — уменьшить ошибку прогноза. Для этого мы воспользуемся моделью полиномиальной регрессии третьей степени. Однако теперь мы знаем, что полиномиальным моделям очень легко переобучиться под исходную выборку. Так как данных у нас не так много (всего 200 скважин), то для контроля качества модели мы будем использовать кросс-валидацию. \n",
    "\n",
    "Приступим! Выполните задания 8.1–8.5:\n"
   ]
  },
  {
   "cell_type": "code",
   "execution_count": 19,
   "id": "18506d1b",
   "metadata": {
    "id": "18506d1b"
   },
   "outputs": [],
   "source": [
    "from sklearn.preprocessing import PolynomialFeatures, StandardScaler\n",
    "from sklearn.linear_model import LinearRegression, Lasso, Ridge, ElasticNet\n",
    "from sklearn.model_selection import GridSearchCV\n",
    "from sklearn.model_selection import cross_validate"
   ]
  },
  {
   "cell_type": "markdown",
   "id": "bfbfea8d",
   "metadata": {
    "id": "bfbfea8d"
   },
   "source": [
    "### Задание 8.1. (1 балл)\n",
    "\n",
    "Стандаризируйте признаки с помощью `StandartScaler` из библиотеки `sklearn`. \n",
    "\n",
    "Затем сгенерируйте полиномиальные признаки третьего порядка на факторах, которые вы выбрали для обучения моделей. Для этого воспользуйтесь генератором полиномов `PolynomialFeatures` из библиотеки `sklearn`. Параметр `include_bias` установите в значение `False`.\n",
    "\n",
    "Выведите на экран, сколько факторов у вас получилось после генерации полиномиальных признаков.\n",
    "\n",
    "**Важно:** стандартизацию необходимо произвести до генерации полиномиальных факторов!\n",
    "\n",
    "Обучите модель линейной регрессии из библиотеки `sklearn` (`LinearRegression`) на полученных полиномиальных факторах.\n",
    "\n",
    "Используя кросс-валидацию оцените среднее значение выбранной вами метрики (или метрик) на тренировочных и валидационных фолдах.\n",
    "\n",
    "Проинтерпретируйте полученные результаты."
   ]
  },
  {
   "cell_type": "markdown",
   "id": "Y8oAhQkr8gV-",
   "metadata": {
    "id": "Y8oAhQkr8gV-"
   },
   "source": [
    "**Критерии оценивания:**\n",
    "\n",
    "- Задание выполнено верно, учтены все условия (**1 балл**): \n",
    "    * на основе отобранных факторов сгенерированы полиномиальные признаки третьего порядка;\n",
    "    * построена модель полиномиальной регрессии (линейной регрессии на полиномиальных признаках);\n",
    "    * с помощью кросс-валидации оценено среднее значение выбранной студентом метрики (или метрик) на тренировочных и валидационных фолдах (метрика должна быть выбрана корректно).\n",
    "- Задание выполнено неверно, не учтено одно или несколько из условий (**0 баллов**)."
   ]
  },
  {
   "cell_type": "code",
   "execution_count": 20,
   "id": "-ln3bx8NFNRw",
   "metadata": {
    "id": "-ln3bx8NFNRw"
   },
   "outputs": [
    {
     "name": "stdout",
     "output_type": "stream",
     "text": [
      "Отобранные признаки: ['Por', 'AI', 'VR', 'Brittle']\n",
      "\n",
      "Количество полиномиальных признаков: 34\n",
      "\n",
      "Результаты кросс-валидации:\n",
      "Train R2: 0.990 ± 0.001\n",
      "Test R2: 0.975 ± 0.007\n",
      "Train MAE: 75.35 ± 2.11\n",
      "Test MAE: 110.47 ± 11.76\n"
     ]
    }
   ],
   "source": [
    "# Ваш код здесь\n",
    "# 1. Отбор признаков\n",
    "corr_matrix = data.drop('Well', axis=1).corr()\n",
    "target_corr = corr_matrix['Prod'].abs()\n",
    "\n",
    "features_to_keep = []\n",
    "used_features = set()\n",
    "\n",
    "# Сортируем признаки по корреляции с целевой переменной\n",
    "for feature in target_corr.sort_values(ascending=False).index:\n",
    "    if feature == 'Prod':\n",
    "        continue\n",
    "\n",
    "    if target_corr[feature] < 0.05:\n",
    "        continue\n",
    "\n",
    "    is_correlated = False\n",
    "    for used_feature in used_features:\n",
    "        if abs(corr_matrix.loc[feature, used_feature]) > 0.7:\n",
    "            is_correlated = True\n",
    "            break\n",
    "\n",
    "    if not is_correlated:\n",
    "        features_to_keep.append(feature)\n",
    "        used_features.add(feature)\n",
    "\n",
    "print(\"Отобранные признаки:\", features_to_keep)\n",
    "\n",
    "# 2. Подготовка данных\n",
    "X = data[features_to_keep].values\n",
    "y = data['Prod'].values\n",
    "\n",
    "# 3. Стандартизация признаков\n",
    "scaler = StandardScaler()\n",
    "X_scaled = scaler.fit_transform(X)\n",
    "\n",
    "# 4. Генерация полиномиальных признаков\n",
    "poly = PolynomialFeatures(degree=3, include_bias=False)\n",
    "X_poly = poly.fit_transform(X_scaled)\n",
    "\n",
    "print(f\"\\nКоличество полиномиальных признаков: {X_poly.shape[1]}\")\n",
    "\n",
    "# 5. Создание и обучение модели\n",
    "model = LinearRegression()\n",
    "\n",
    "# 6. Кросс-валидация\n",
    "cv_results = cross_validate(\n",
    "    model,\n",
    "    X_poly,\n",
    "    y,\n",
    "    cv=5,\n",
    "    scoring=['r2', 'neg_mean_absolute_error'],\n",
    "    return_train_score=True\n",
    ")\n",
    "\n",
    "# 7. Вывод результатов\n",
    "print(\"\\nРезультаты кросс-валидации:\")\n",
    "print(f\"Train R2: {cv_results['train_r2'].mean():.3f} ± {cv_results['train_r2'].std():.3f}\")\n",
    "print(f\"Test R2: {cv_results['test_r2'].mean():.3f} ± {cv_results['test_r2'].std():.3f}\")\n",
    "print(f\"Train MAE: {-cv_results['train_neg_mean_absolute_error'].mean():.2f} ± {cv_results['train_neg_mean_absolute_error'].std():.2f}\")\n",
    "print(f\"Test MAE: {-cv_results['test_neg_mean_absolute_error'].mean():.2f} ± {cv_results['test_neg_mean_absolute_error'].std():.2f}\")"
   ]
  },
  {
   "cell_type": "markdown",
   "id": "9DkuuLLtFPPy",
   "metadata": {
    "id": "9DkuuLLtFPPy"
   },
   "source": [
    "> *Ваши выводы здесь*\n",
    "> Качество модели: Высокий R² на обучающей выборке (0.990) и тестовой выборке (0.975) показывает, что модель очень хорошо описывает зависимость между признаками и целевой переменной MAE на обучающей выборке составляет 75.35, на тестовой - 110.47 единиц.\n",
    "> \n",
    "> Признаки: Отобраны 4 значимых некоррелирующих признака: Por (пористость), AI (акустический импеданс), VR (коэффициент отражения), Brittle (хрупкость) После генерации полиномов третьей степени получено 34 признака, что значительно увеличило размерность пространства признаков.\n",
    "> \n",
    "> Переобучение: Разница между Train R² и Test R² небольшая (0.015), что говорит об отсутствии сильного переобучения Однако MAE на тестовой выборке примерно в 1.5 раза больше, чем на обучающей, что указывает на некоторое переобучение.\n",
    "> \n",
    "> Стабильность модели: Небольшие значения стандартных отклонений для R² (±0.001 и ±0.007) показывают стабильность модели Более высокие отклонения для MAE (±2.11 и ±11.76) указывают на некоторую вариативность в точности предсказаний Вывод: модель демонстрирует хорошие предсказательные способности с признаками умеренного переобучения."
   ]
  },
  {
   "cell_type": "markdown",
   "id": "63d06013",
   "metadata": {
    "id": "63d06013"
   },
   "source": [
    "### Задание 8.2. (2 балла)\n",
    "\n",
    "Теперь попробуем воспользоваться линейной регрессией с регуляризацией. Для начала возьмём $L_1$-регуляризацию.\n",
    "\n",
    "Обучите модель `Lasso` из библиотеки `sklearn` на полученных полиномиальных факторах, предварительно стандартизировав факторы. \n",
    "\n",
    "Коэффициент регуляризации (`alpha`) подберите самостоятельно с помощью любого известного вам метода подбора гиперпаметров.\n",
    "\n",
    "Используя кросс-валидацию, оцените среднее значение выбранной вами метрики (или метрик) на тренировочных и валидационных фолдах.\n",
    "\n",
    "Проинтерпретируйте полученные результаты."
   ]
  },
  {
   "cell_type": "markdown",
   "id": "z24YUfuA9rUq",
   "metadata": {
    "id": "z24YUfuA9rUq"
   },
   "source": [
    "**Критерии оценивания:**\n",
    "\n",
    "- Задание выполнено верно, учтены все условия (**2 балла**): \n",
    "    * правильно построена модель полиномиальной регрессии (линейной регрессии на полиномиальных признаках) с регуляризацией (Lasso), учтены условия необходимости масштабирования факторов для построения модели;\n",
    "    * приведён код для подбора параметра регуляризации (вручную или с помощью библиотечных инструментов);\n",
    "    * с помощью кросс-валидации оценено среднее значение выбранной студентом метрики (или метрик) на тренировочных и валидационных фолдах (метрика должна быть выбрана корректно).\n",
    "\n",
    "- Задание выполнено верно, но не учтено одно из условий (**1 балл**).\n",
    "- Задание выполнено неверно, не учтено несколько условий (**0 баллов**)."
   ]
  },
  {
   "cell_type": "code",
   "execution_count": 21,
   "id": "IJ5b5G8qFz-r",
   "metadata": {
    "id": "IJ5b5G8qFz-r"
   },
   "outputs": [
    {
     "name": "stdout",
     "output_type": "stream",
     "text": [
      "Лучший параметр alpha: 10\n",
      "\n",
      "Результаты кросс-валидации для Lasso:\n",
      "Train R2: 0.987 ± 0.001\n",
      "Test R2: 0.981 ± 0.004\n",
      "Train MAE: 83.38 ± 1.48\n",
      "Test MAE: 99.96 ± 13.39\n",
      "\n",
      "Количество ненулевых коэффициентов: 20 из 34\n"
     ]
    }
   ],
   "source": [
    "# Ваш код здесь\n",
    "# Используем те же полиномиальные признаки, что были созданы ранее\n",
    "X = data[features_to_keep].values\n",
    "\n",
    "# Стандартизация\n",
    "scaler = StandardScaler()\n",
    "X_scaled = scaler.fit_transform(X)\n",
    "\n",
    "# Генерация полиномиальных признаков\n",
    "poly = PolynomialFeatures(degree=3, include_bias=False)\n",
    "X_poly = poly.fit_transform(X_scaled)\n",
    "\n",
    "# Подбор параметра регуляризации с помощью GridSearchCV\n",
    "param_grid = {\n",
    "    'alpha': [0.0001, 0.001, 0.01, 0.1, 1, 10, 100]\n",
    "}\n",
    "\n",
    "lasso = Lasso(max_iter=10000)\n",
    "grid_search = GridSearchCV(\n",
    "    lasso,\n",
    "    param_grid,\n",
    "    cv=5,\n",
    "    scoring='neg_mean_absolute_error',\n",
    "    n_jobs=-1\n",
    ")\n",
    "\n",
    "grid_search.fit(X_poly, y)\n",
    "\n",
    "# Лучшие параметры\n",
    "print(f\"Лучший параметр alpha: {grid_search.best_params_['alpha']}\")\n",
    "\n",
    "# Оценка качества с помощью кросс-валидации\n",
    "best_model = Lasso(alpha=grid_search.best_params_['alpha'], max_iter=10000)\n",
    "cv_results = cross_validate(\n",
    "    best_model,\n",
    "    X_poly,\n",
    "    y,\n",
    "    cv=5,\n",
    "    scoring=['r2', 'neg_mean_absolute_error'],\n",
    "    return_train_score=True\n",
    ")\n",
    "\n",
    "# Вывод результатов\n",
    "print(\"\\nРезультаты кросс-валидации для Lasso:\")\n",
    "print(f\"Train R2: {cv_results['train_r2'].mean():.3f} ± {cv_results['train_r2'].std():.3f}\")\n",
    "print(f\"Test R2: {cv_results['test_r2'].mean():.3f} ± {cv_results['test_r2'].std():.3f}\")\n",
    "print(f\"Train MAE: {-cv_results['train_neg_mean_absolute_error'].mean():.2f} ± {cv_results['train_neg_mean_absolute_error'].std():.2f}\")\n",
    "print(f\"Test MAE: {-cv_results['test_neg_mean_absolute_error'].mean():.2f} ± {cv_results['test_neg_mean_absolute_error'].std():.2f}\")\n",
    "\n",
    "# Количество ненулевых коэффициентов\n",
    "final_model = Lasso(alpha=grid_search.best_params_['alpha'], max_iter=10000)\n",
    "final_model.fit(X_poly, y)\n",
    "n_nonzero = np.sum(final_model.coef_ != 0)\n",
    "print(f\"\\nКоличество ненулевых коэффициентов: {n_nonzero} из {len(final_model.coef_)}\")"
   ]
  },
  {
   "cell_type": "markdown",
   "id": "Se0OGR8UF2Td",
   "metadata": {
    "id": "Se0OGR8UF2Td"
   },
   "source": [
    "> *Ваши выводы здесь*\n",
    "> Сравнительный анализ моделей:\n",
    ">\n",
    "> Обычная полиномиальная регрессия:\n",
    "> Train R2: 0.990 ± 0.001 Test R2: 0.975 ± 0.007 Train MAE: 75.35 ± 2.11 Test MAE: 110.47 ± 11.76 Использует все 34 признака\n",
    ">\n",
    "> Lasso регрессия:\n",
    "> Train R2: 0.987 ± 0.001 Test R2: 0.981 ± 0.004 Train MAE: 83.38 ± 1.48 Test MAE: 99.96 ± 13.39 Использует 20 из 34 признаков Ключевые улучшения с Lasso:\n",
    ">\n",
    "> Уменьшился разрыв между Train и Test R2 (с 0.015 до 0.006) Снизилась Test MAE (со 110.47 до 99.96) Модель стала более компактной (20 вместо 34 признаков) Увеличилась стабильность R2 на тестовой выборке (std снизилось с 0.007 до 0.004) Вывод: Lasso регрессия эффективно справилась с задачей регуляризации, создав более простую и устойчивую модель с лучшей обобщающей способностью."
   ]
  },
  {
   "cell_type": "markdown",
   "id": "2975ae60",
   "metadata": {
    "id": "2975ae60"
   },
   "source": [
    "### Задание 8.3. (2 балла)\n",
    "\n",
    "Проделаем то же самое с $L_2$-регуляризацией.\n",
    "\n",
    "Обучите модель `Ridge` из библиотеки `sklearn` на полученных полиномиальных факторах, предварительно стандартизировав факторы. \n",
    "\n",
    "Коэффициент регуляризации (`alpha`) подберите самостоятельно с помощью любого известного вам метода подбора гиперпаметров.\n",
    "\n",
    "Используя кросс-валидацию оцените среднее значение выбранной вами метрики (или метрик) на тренировочных и валидационных фолдах.\n",
    "\n",
    "Проинтерпретируйте полученные результаты."
   ]
  },
  {
   "cell_type": "code",
   "execution_count": 22,
   "id": "UfPGyNsjGGS8",
   "metadata": {
    "id": "UfPGyNsjGGS8"
   },
   "outputs": [
    {
     "name": "stdout",
     "output_type": "stream",
     "text": [
      "Лучший параметр alpha: 0.1\n",
      "\n",
      "Результаты кросс-валидации для Ridge:\n",
      "Train R2: 0.990 ± 0.001\n",
      "Test R2: 0.975 ± 0.007\n",
      "Train MAE: 75.32 ± 2.19\n",
      "Test MAE: 110.14 ± 12.00\n",
      "\n",
      "Количество коэффициентов близких к нулю (< 0.01): 0 из 34\n"
     ]
    }
   ],
   "source": [
    "# Ваш код здесь\n",
    "# Используем те же полиномиальные признаки\n",
    "X = data[features_to_keep].values\n",
    "\n",
    "# Стандартизация\n",
    "scaler = StandardScaler()\n",
    "X_scaled = scaler.fit_transform(X)\n",
    "\n",
    "# Генерация полиномиальных признаков\n",
    "poly = PolynomialFeatures(degree=3, include_bias=False)\n",
    "X_poly = poly.fit_transform(X_scaled)\n",
    "\n",
    "# Подбор параметра регуляризации\n",
    "param_grid = {\n",
    "    'alpha': [0.0001, 0.001, 0.01, 0.1, 1, 10, 100]\n",
    "}\n",
    "\n",
    "ridge = Ridge()\n",
    "grid_search = GridSearchCV(\n",
    "    ridge,\n",
    "    param_grid,\n",
    "    cv=5,\n",
    "    scoring='neg_mean_absolute_error',\n",
    "    n_jobs=-1\n",
    ")\n",
    "\n",
    "grid_search.fit(X_poly, y)\n",
    "\n",
    "# Вывод лучших параметров\n",
    "print(f\"Лучший параметр alpha: {grid_search.best_params_['alpha']}\")\n",
    "\n",
    "# Оценка качества с помощью кросс-валидации\n",
    "best_model = Ridge(alpha=grid_search.best_params_['alpha'])\n",
    "cv_results = cross_validate(\n",
    "    best_model,\n",
    "    X_poly,\n",
    "    y,\n",
    "    cv=5,\n",
    "    scoring=['r2', 'neg_mean_absolute_error'],\n",
    "    return_train_score=True\n",
    ")\n",
    "\n",
    "# Вывод результатов\n",
    "print(\"\\nРезультаты кросс-валидации для Ridge:\")\n",
    "print(f\"Train R2: {cv_results['train_r2'].mean():.3f} ± {cv_results['train_r2'].std():.3f}\")\n",
    "print(f\"Test R2: {cv_results['test_r2'].mean():.3f} ± {cv_results['test_r2'].std():.3f}\")\n",
    "print(f\"Train MAE: {-cv_results['train_neg_mean_absolute_error'].mean():.2f} ± {cv_results['train_neg_mean_absolute_error'].std():.2f}\")\n",
    "print(f\"Test MAE: {-cv_results['test_neg_mean_absolute_error'].mean():.2f} ± {cv_results['test_neg_mean_absolute_error'].std():.2f}\")\n",
    "\n",
    "# Анализ коэффициентов\n",
    "final_model = Ridge(alpha=grid_search.best_params_['alpha'])\n",
    "final_model.fit(X_poly, y)\n",
    "n_small_coef = np.sum(abs(final_model.coef_) < 0.01)\n",
    "print(f\"\\nКоличество коэффициентов близких к нулю (< 0.01): {n_small_coef} из {len(final_model.coef_)}\")"
   ]
  },
  {
   "cell_type": "markdown",
   "id": "dQBd7ny_GIi1",
   "metadata": {
    "id": "dQBd7ny_GIi1"
   },
   "source": [
    "> *Ваши выводы здесь*\n",
    "> Сравнительный анализ всех трех моделей:\n",
    ">\n",
    "> Ridge регрессия (L2):\n",
    "> \n",
    "> Train R2: 0.990 ± 0.001\n",
    "> \n",
    "> Test R2: 0.975 ± 0.007\n",
    "> \n",
    "> Train MAE: 75.32 ± 2.19\n",
    "> \n",
    "> Test MAE: 110.14 ± 12.00\n",
    "> \n",
    "> Использует все 34 признака (нет коэффициентов близких к нулю).\n",
    ">\n",
    "> \n",
    "> Lasso регрессия (L1):\n",
    "> \n",
    "> Train R2: 0.987 ± 0.001\n",
    "> \n",
    "> Test R2: 0.981 ± 0.004\n",
    "> \n",
    "> Train MAE: 83.38 ± 1.48\n",
    "> \n",
    "> Test MAE: 99.96 ± 13.39\n",
    "> \n",
    "> Использует 20 из 34 признаков.\n",
    ">\n",
    ">\n",
    "> Обычная полиномиальная регрессия:\n",
    "> Train R2: 0.990 ± 0.001\n",
    "> \n",
    "> Test R2: 0.975 ± 0.007\n",
    "> \n",
    "> Train MAE: 75.35 ± 2.11\n",
    "> \n",
    "> Test MAE: 110.47 ± 11.76\n",
    "> \n",
    "> Использует все 34 признака Выводы:\n",
    ">\n",
    "> Ridge регрессия показала результаты практически идентичные обычной полиномиальной регрессии, что говорит о слабом влиянии L2-регуляризации при выбранном α=0.1\n",
    ">\n",
    "> Lasso регрессия оказалась наиболее эффективной:\n",
    ">\n",
    "> Лучший Test R2 (0.981) Наименьшая Test MAE (99.96) Более простая модель (20 признаков) Лучшая обобщающая способность Рекомендация: для данной задачи оптимально использовать Lasso регрессию, так как она: Обеспечивает лучшее качество предсказаний Создает более простую модель Эффективно отбирает значимые признаки Лучше борется с переобучением"
   ]
  },
  {
   "cell_type": "markdown",
   "id": "86pXnWE7-5ch",
   "metadata": {
    "id": "86pXnWE7-5ch"
   },
   "source": [
    "**Критерии оценивания:**\n",
    "\n",
    "- Задание выполнено верно, учтены все условия (**2 балла**): \n",
    "    * правильно построена модель полиномиальной регрессии (линейной регрессии на полиномиальных признаках) с регуляризацией (Ridge), учтены условия необходимости масштабирования факторов для построения модели;\n",
    "    * приведён код для подбора параметра регуляризации (вручную или с помощью библиотечных инструментов);\n",
    "    * с помощью кросс-валидации оценено среднее значение выбранной студентом метрики (или метрик) на тренировочных и валидационных фолдах (метрика должна быть выбрана корректно).\n",
    "\n",
    "- Задание выполнено верно, но не учтено одно из условий (**1 балл**).\n",
    "- Задание выполнено неверно, не учтено несколько условий (**0 баллов**)."
   ]
  },
  {
   "cell_type": "markdown",
   "id": "7ad85b78",
   "metadata": {
    "id": "7ad85b78"
   },
   "source": [
    "### Задание 8.4. (2 балла)\n",
    "\n",
    "Наконец, настало время комбинировать $L_1$ и $L_2$ -регуляризации.\n",
    "\n",
    "Обучите модель `ElasticNet` из библиотеки `sklearn` на полученных полиномиальных факторах, предварительно стандартизировав факторы. \n",
    "\n",
    "Коэффициенты регуляризации (`alpha` и `l1-ratio`) подберите самостоятельно с помощью любого известного вам метода подбора гиперпаметров.\n",
    "\n",
    "Используя кросс-валидацию, оцените среднее значение метрики MAPE на тренировочных и валидационных фолдах.\n",
    "\n",
    "Проинтерпретируйте полученные результаты."
   ]
  },
  {
   "cell_type": "markdown",
   "id": "sy8ESceQ-__u",
   "metadata": {
    "id": "sy8ESceQ-__u"
   },
   "source": [
    "**Критерии оценивания:**\n",
    "\n",
    "- Задание выполнено верно, учтены все условия (**2 балла**): \n",
    "    * правильно построена модель полиномиальной регрессии (линейной регрессии на полиномиальных признаках) с регуляризацией (ElasticNet), учтены условия необходимости масштабирования факторов для построения модели;\n",
    "    * приведён код для подбора параметра регуляризации (вручную или с помощью библиотечных инструментов);\n",
    "    * с помощью кросс-валидации оценено среднее значение выбранной студентом метрики (или метрик) на тренировочных и валидационных фолдах (метрика должна быть выбрана корректно).\n",
    "\n",
    "- Задание выполнено верно, но не учтено одно из условий (**1 балл**).\n",
    "- Задание выполнено неверно, не учтено несколько условий (**0 баллов**)."
   ]
  },
  {
   "cell_type": "code",
   "execution_count": null,
   "id": "-Yi3P20hQnLS",
   "metadata": {
    "id": "-Yi3P20hQnLS"
   },
   "outputs": [],
   "source": [
    "# Ваш код здесь\n",
    "# Используем те же полиномиальные признаки\n",
    "X = data[features_to_keep].values\n",
    "\n",
    "# Стандартизация\n",
    "scaler = StandardScaler()\n",
    "X_scaled = scaler.fit_transform(X)\n",
    "\n",
    "# Генерация полиномиальных признаков\n",
    "poly = PolynomialFeatures(degree=3, include_bias=False)\n",
    "X_poly = poly.fit_transform(X_scaled)\n",
    "\n",
    "# Подбор параметров\n",
    "param_grid = {\n",
    "    'alpha': [0.0001, 0.001, 0.01, 0.1, 1, 10],\n",
    "    'l1_ratio': [0.1, 0.3, 0.5, 0.7, 0.9]\n",
    "}\n",
    "\n",
    "elastic = ElasticNet(max_iter=10000)\n",
    "grid_search = GridSearchCV(\n",
    "    elastic,\n",
    "    param_grid,\n",
    "    cv=5,\n",
    "    scoring='neg_mean_absolute_error',\n",
    "    n_jobs=-1\n",
    ")\n",
    "\n",
    "grid_search.fit(X_poly, y)\n",
    "\n",
    "# Вывод лучших параметров\n",
    "print(\"Лучшие параметры:\")\n",
    "print(f\"alpha: {grid_search.best_params_['alpha']}\")\n",
    "print(f\"l1_ratio: {grid_search.best_params_['l1_ratio']}\")\n",
    "\n",
    "# Оценка качества с помощью кросс-валидации\n",
    "best_model = ElasticNet(\n",
    "    alpha=grid_search.best_params_['alpha'],\n",
    "    l1_ratio=grid_search.best_params_['l1_ratio'],\n",
    "    max_iter=10000\n",
    ")\n",
    "\n",
    "cv_results = cross_validate(\n",
    "    best_model,\n",
    "    X_poly,\n",
    "    y,\n",
    "    cv=5,\n",
    "    scoring=['r2', 'neg_mean_absolute_error'],\n",
    "    return_train_score=True\n",
    ")\n",
    "\n",
    "# Вывод результатов\n",
    "print(\"\\nРезультаты кросс-валидации для ElasticNet:\")\n",
    "print(f\"Train R2: {cv_results['train_r2'].mean():.3f} ± {cv_results['train_r2'].std():.3f}\")\n",
    "print(f\"Test R2: {cv_results['test_r2'].mean():.3f} ± {cv_results['test_r2'].std():.3f}\")\n",
    "print(f\"Train MAE: {-cv_results['train_neg_mean_absolute_error'].mean():.2f} ± {cv_results['train_neg_mean_absolute_error'].std():.2f}\")\n",
    "print(f\"Test MAE: {-cv_results['test_neg_mean_absolute_error'].mean():.2f} ± {cv_results['test_neg_mean_absolute_error'].std():.2f}\")\n",
    "\n",
    "# Анализ коэффициентов\n",
    "final_model = ElasticNet(\n",
    "    alpha=grid_search.best_params_['alpha'],\n",
    "    l1_ratio=grid_search.best_params_['l1_ratio'],\n",
    "    max_iter=10000\n",
    ")\n",
    "final_model.fit(X_poly, y)\n",
    "n_nonzero = np.sum(final_model.coef_ != 0)\n",
    "print(f\"\\nКоличество ненулевых коэффициентов: {n_nonzero} из {len(final_model.coef_)}\")\n"
   ]
  },
  {
   "cell_type": "markdown",
   "id": "er2lAiE9QpAb",
   "metadata": {
    "id": "er2lAiE9QpAb"
   },
   "source": [
    "> *Ваши выводы здесь*\n",
    "> В последней модели ElasticNet реализовано:\n",
    "> Параметры регуляризации: alpha = 0.01 (слабая регуляризация) l1_ratio = 0.9 (преобладание L1-регуляризации).\n",
    ">\n",
    "> Характеристики модели: Использованы все 34 полиномиальных признака. Высокая точность на обучающей выборке (R² = 0.990). Хорошая обобщающая способность (Test R² = 0.975). Стабильные результаты (малые значения std).\n",
    ">\n",
    "> Метрики качества: MAE на тренировочной выборке: 75.35 ± 2.22 MAE на тестовой выборке: 109.96 ± 12.03 Разница между train и test MAE указывает на умеренное переобучение.\n",
    ">\n",
    "> Особенности результатов: Модель сохранила все признаки, несмотря на высокий l1_ratio Показатели близки к результатам обычной полиномиальной регрессии Стабильные результаты на кросс-валидации Модель демонстрирует высокую точность предсказаний с хорошим балансом между сложностью и качеством прогнозов."
   ]
  },
  {
   "cell_type": "markdown",
   "id": "91c6e1d1",
   "metadata": {
    "id": "91c6e1d1"
   },
   "source": [
    "### Задание 8.5. (1 балл)\n",
    "\n",
    "Завершением вашей работы будет сводная таблица результатов, которую вы представите на презентации заказчику Василию.\n",
    "\n",
    "Составьте таблицу (DataFrame) со следующими столбцами (имена столбцов выберите самостоятельно):\n",
    "* Наименование модели.\n",
    "* Гиперпараметры (коэффициенты регуляризации, если таковые имеются), если нет — оставьте ячейку пустой.\n",
    "* Использовались ли полиномиальные признаки при построении модели (Да/Нет или True/False).\n",
    "* Значение выбранной метрики на тренировочных фолдах при кросс-валидации модели.\n",
    "* Значение выбранной метрики на валидационных фолдах при кросс-валидации модели.\n",
    "\n",
    "Сделайте финальный вывод по проделанной работе. Какая линейная модель из тех, что мы рассмотрели, показала наилучший результат с точки зрения качества на валидационных фолдах, а также с точки зрения переобученности?"
   ]
  },
  {
   "cell_type": "markdown",
   "id": "OsFRaKkF_nLq",
   "metadata": {
    "id": "OsFRaKkF_nLq"
   },
   "source": [
    "**Критерии оценивания:**\n",
    "\n",
    "- Задание выполнено верно, учтены все условия (**1 балл**): \n",
    "    * верно составлена сводная таблица итоговых результатов построенных ранее моделей с указанными в задании столбцами;\n",
    "    * приведены итоговые выводы по проделанной работе, указано, какая из рассмотренных моделей показала наилучший результат.\n",
    "\n",
    "- Задание выполнено неверно, не учтено одно или несколько условий (**0 баллов**)."
   ]
  },
  {
   "cell_type": "code",
   "execution_count": 23,
   "id": "wRiys8lKQuqW",
   "metadata": {
    "id": "wRiys8lKQuqW"
   },
   "outputs": [
    {
     "name": "stdout",
     "output_type": "stream",
     "text": [
      "Сводная таблица результатов:\n",
      "        Model  Train_R2  Test_R2  Train_MAE  Test_MAE  Active_Features\n",
      "0  Polynomial     0.990    0.975      75.35    110.47               34\n",
      "1       Lasso     0.987    0.981      83.38     99.96               20\n",
      "2       Ridge     0.990    0.975      75.32    110.14               34\n",
      "3  ElasticNet     0.990    0.975      75.35    109.96               34\n"
     ]
    },
    {
     "data": {
      "image/png": "[encoded data removed]",
      "text/plain": [
       "<Figure size 1500x1000 with 4 Axes>"
      ]
     },
     "metadata": {},
     "output_type": "display_data"
    }
   ],
   "source": [
    "# Ваш код здесь\n",
    "# Создаем сводную таблицу результатов\n",
    "results_data = {\n",
    "    'Model': ['Polynomial', 'Lasso', 'Ridge', 'ElasticNet'],\n",
    "    'Train_R2': [0.990, 0.987, 0.990, 0.990],\n",
    "    'Test_R2': [0.975, 0.981, 0.975, 0.975],\n",
    "    'Train_MAE': [75.35, 83.38, 75.32, 75.35],\n",
    "    'Test_MAE': [110.47, 99.96, 110.14, 109.96],\n",
    "    'Active_Features': [34, 20, 34, 34]\n",
    "}\n",
    "\n",
    "results_df = pd.DataFrame(results_data)\n",
    "print(\"Сводная таблица результатов:\")\n",
    "print(results_df)\n",
    "\n",
    "# Визуализация метрик\n",
    "plt.figure(figsize=(15, 10))\n",
    "\n",
    "# R2 scores\n",
    "plt.subplot(2, 2, 1)\n",
    "plt.bar(results_df['Model'], results_df['Train_R2'], label='Train', alpha=0.6)\n",
    "plt.bar(results_df['Model'], results_df['Test_R2'], label='Test', alpha=0.6)\n",
    "plt.title('R² Score by Model')\n",
    "plt.legend()\n",
    "plt.xticks(rotation=45)\n",
    "\n",
    "# MAE scores\n",
    "plt.subplot(2, 2, 2)\n",
    "plt.bar(results_df['Model'], results_df['Train_MAE'], label='Train', alpha=0.6)\n",
    "plt.bar(results_df['Model'], results_df['Test_MAE'], label='Test', alpha=0.6)\n",
    "plt.title('MAE by Model')\n",
    "plt.legend()\n",
    "plt.xticks(rotation=45)\n",
    "\n",
    "# Feature counts\n",
    "plt.subplot(2, 2, 3)\n",
    "plt.bar(results_df['Model'], results_df['Active_Features'])\n",
    "plt.title('Number of Active Features')\n",
    "plt.xticks(rotation=45)\n",
    "\n",
    "# Train-Test MAE difference\n",
    "results_df['MAE_diff'] = results_df['Test_MAE'] - results_df['Train_MAE']\n",
    "plt.subplot(2, 2, 4)\n",
    "plt.bar(results_df['Model'], results_df['MAE_diff'])\n",
    "plt.title('Test-Train MAE Difference')\n",
    "plt.xticks(rotation=45)\n",
    "\n",
    "plt.tight_layout()\n",
    "plt.show()"
   ]
  },
  {
   "cell_type": "markdown",
   "id": "UP7_LSoEQsrA",
   "metadata": {
    "id": "UP7_LSoEQsrA"
   },
   "source": [
    "> *Ваши выводы здесь*\n",
    "> Были проведены эксперименты с моделями полиномиальной регрессии:\n",
    ">\n",
    "> простая модель без регуляризации\n",
    ">\n",
    "> модель с регуляризацией L1 (Lasso)\n",
    ">\n",
    "> модель с регуляризацией L2 (Ridge)\n",
    ">\n",
    "> модель со смешанной регуляризацией (ElasticNet)\n",
    ">\n",
    "> При формировании первой модели были отобраны признаки со значимой корреляцией с целевой переменной. Оставлены базовые признаки ['Por', 'AI', 'VR', 'Brittle'], которые в дальнейшем использовались во всех моделях. Полиномиальные признаки, полученные на первой модели, для всех последующих моделей использовались как входные переменные.\n",
    ">\n",
    "> В качестве метрик выбраны MAE и R². MAE (Mean Absolute Error) выбрана как интерпретируемая метрика, показывающая среднюю абсолютную ошибку предсказания в исходных единицах измерения. R² выбран для оценки доли объясненной дисперсии и общего качества подгонки модели. Подбор коэффициентов регуляризации проводился с помощью метода GridSearchCV.\n",
    ">\n",
    "> Основные результаты экспериментов:\n",
    ">\n",
    "> Базовая полиномиальная модель показала хорошие результаты (Test R²=0.975), но имела признаки переобучения Lasso-регрессия продемонстрировала лучшие показатели (Test R²=0.981, Test MAE=99.96) и сократила число признаков до 20 Ridge-регрессия не улучшила результаты базовой модели, сохранив все признаки ElasticNet, несмотря на высокий коэффициент l1_ratio, не произвел отбор признаков и показал результаты, близкие к базовой модели Оптимальной можно считать модель Lasso-регрессии, так как она:\n",
    ">\n",
    "> Обеспечивает наилучшие метрики качества Производит эффективный отбор полиномиальных признаков Демонстрирует меньшую склонность к переобучению Создает более простую и интерпретируемую модель Данное исследование подтверждает эффективность L1-регуляризации для задач с полиномиальными признаками, где важно не только качество предсказаний, но и простота модели."
   ]
  }
 ],
 "metadata": {
  "colab": {
   "provenance": []
  },
  "kernelspec": {
   "display_name": "Python 3 (ipykernel)",
   "language": "python",
   "name": "python3"
  },
  "language_info": {
   "codemirror_mode": {
    "name": "ipython",
    "version": 3
   },
   "file_extension": ".py",
   "mimetype": "text/x-python",
   "name": "python",
   "nbconvert_exporter": "python",
   "pygments_lexer": "ipython3",
   "version": "3.12.4"
  },
  "vscode": {
   "interpreter": {
    "hash": "86c56a74836ad344b00594bf6f38fa6a676a207ceefe20d101fbc465800ccb8d"
   }
  }
 },
 "nbformat": 4,
 "nbformat_minor": 5
}
